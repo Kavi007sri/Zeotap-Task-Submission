{
 "cells": [
  {
   "cell_type": "code",
   "execution_count": 26,
   "id": "86392181-34e8-4787-8a83-a8d305a5287e",
   "metadata": {},
   "outputs": [
    {
     "name": "stdout",
     "output_type": "stream",
     "text": [
      "  CustomerID LookalikeCustomerID  SimilarityScore\n",
      "0      C0001               C0164         0.997598\n",
      "1      C0001               C0103         0.995394\n",
      "2      C0001               C0069         0.986073\n",
      "3      C0002               C0029         0.999754\n",
      "4      C0002               C0031         0.998986\n"
     ]
    }
   ],
   "source": [
    "import pandas as pd\n",
    "from sklearn.metrics.pairwise import cosine_similarity\n",
    "from sklearn.preprocessing import StandardScaler\n",
    "from sklearn.decomposition import PCA\n",
    "\n",
    "# Load the datasets\n",
    "customers_df = pd.read_csv('Customers.csv')\n",
    "products_df = pd.read_csv('Products.csv')\n",
    "transactions_df = pd.read_csv('Transactions.csv')\n",
    "\n",
    "# Data Preprocessing: Convert 'SignupDate' to datetime and create additional features\n",
    "customers_df['SignupDate'] = pd.to_datetime(customers_df['SignupDate'])\n",
    "customers_df['SignupYear'] = customers_df['SignupDate'].dt.year\n",
    "customers_df['SignupMonth'] = customers_df['SignupDate'].dt.month\n",
    "\n",
    "# Merging the transaction data with the customer and product details\n",
    "merged_df = pd.merge(transactions_df, customers_df, on='CustomerID', how='left')\n",
    "merged_df = pd.merge(merged_df, products_df, on='ProductID', how='left')\n",
    "\n",
    "# Feature Engineering: Aggregate transaction data for each customer\n",
    "customer_features = merged_df.groupby('CustomerID').agg(\n",
    "    total_value=('TotalValue', 'sum'),\n",
    "    total_quantity=('Quantity', 'sum'),\n",
    "    num_transactions=('TransactionID', 'count'),\n",
    "    most_common_category=('Category', lambda x: x.mode()[0]),\n",
    ").reset_index()\n",
    "\n",
    "# Normalize features\n",
    "scaler = StandardScaler()\n",
    "customer_features[['total_value', 'total_quantity', 'num_transactions']] = scaler.fit_transform(\n",
    "    customer_features[['total_value', 'total_quantity', 'num_transactions']])\n",
    "\n",
    "# We will use these normalized features for similarity calculation\n",
    "customer_features_final = customer_features[['total_value', 'total_quantity', 'num_transactions']]\n",
    "\n",
    "# Calculate similarity matrix using Cosine Similarity\n",
    "cos_sim = cosine_similarity(customer_features_final)\n",
    "\n",
    "# Function to get the top 3 similar customers for a given customer\n",
    "def get_top_3_lookalikes(customer_id, cos_sim_matrix, customers_list):\n",
    "    # Find the index of the target customer\n",
    "    customer_idx = customers_list.index(customer_id)\n",
    "    \n",
    "    # Get similarity scores for the target customer with all other customers\n",
    "    similarity_scores = list(enumerate(cos_sim_matrix[customer_idx]))\n",
    "    \n",
    "    # Sort the similarity scores in descending order\n",
    "    similarity_scores = sorted(similarity_scores, key=lambda x: x[1], reverse=True)\n",
    "    \n",
    "    # Select the top 3 similar customers (excluding the customer itself)\n",
    "    top_3 = [(customers_list[i[0]], i[1]) for i in similarity_scores[1:4]]\n",
    "    \n",
    "    return top_3\n",
    "\n",
    "# Prepare the list of customer IDs\n",
    "customers_list = customer_features['CustomerID'].tolist()\n",
    "\n",
    "# Generate Lookalike recommendations for the first 20 customers (C0001 - C0020)\n",
    "lookalike_recommendations = []\n",
    "for customer_id in customers_list[:20]:  # For customers C0001 to C0020\n",
    "    top_3 = get_top_3_lookalikes(customer_id, cos_sim, customers_list)\n",
    "    for lookalike in top_3:\n",
    "        lookalike_recommendations.append({\n",
    "            'CustomerID': customer_id,\n",
    "            'LookalikeCustomerID': lookalike[0],\n",
    "            'SimilarityScore': lookalike[1]\n",
    "        })\n",
    "\n",
    "# Save the recommendations to a CSV file\n",
    "lookalike_df = pd.DataFrame(lookalike_recommendations)\n",
    "\n",
    "lookalike_df.to_csv('Kavitha_L_Lookalike.csv', index=False)\n",
    "\n",
    "print(lookalike_df.head())\n"
   ]
  },
  {
   "cell_type": "code",
   "execution_count": null,
   "id": "53b529d5-1639-45c2-96db-5ab5fb03aa6f",
   "metadata": {},
   "outputs": [],
   "source": []
  },
  {
   "cell_type": "code",
   "execution_count": null,
   "id": "30cce3e3-4a78-4ae3-ae53-c9292667eda0",
   "metadata": {},
   "outputs": [],
   "source": []
  },
  {
   "cell_type": "code",
   "execution_count": null,
   "id": "9447c196-9f78-4224-acd7-54dedef77cc8",
   "metadata": {},
   "outputs": [],
   "source": []
  }
 ],
 "metadata": {
  "kernelspec": {
   "display_name": "Python 3 (ipykernel)",
   "language": "python",
   "name": "python3"
  },
  "language_info": {
   "codemirror_mode": {
    "name": "ipython",
    "version": 3
   },
   "file_extension": ".py",
   "mimetype": "text/x-python",
   "name": "python",
   "nbconvert_exporter": "python",
   "pygments_lexer": "ipython3",
   "version": "3.12.4"
  }
 },
 "nbformat": 4,
 "nbformat_minor": 5
}
